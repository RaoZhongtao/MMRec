{
 "cells": [
  {
   "cell_type": "markdown",
   "metadata": {
    "collapsed": false
   },
   "source": [
    "# Sports14 Text/Image Feature Extraction"
   ]
  },
  {
   "cell_type": "markdown",
   "metadata": {
    "collapsed": false
   },
   "source": []
  },
  {
   "cell_type": "code",
   "execution_count": 1,
   "metadata": {
    "collapsed": false,
    "pycharm": {
     "name": "#%%\n"
    }
   },
   "outputs": [],
   "source": [
    "\n",
    "import os\n",
    "import numpy as np\n",
    "import pandas as pd"
   ]
  },
  {
   "cell_type": "code",
   "execution_count": 2,
   "metadata": {
    "collapsed": false,
    "pycharm": {
     "is_executing": true,
     "name": "#%%\n"
    }
   },
   "outputs": [],
   "source": [
    "dataset = 'toys'\n",
    "rslt_dir = f'/home/yueqi/peilin/MMRec/data/AmazonReview/{dataset}/'\n",
    "image_dir = f'/home/yueqi/peilin/MMRec/AmazonRawData/Amazon_Review_Plus/photos/{dataset}/'\n",
    "image_features = f'image_features_{dataset}.b'\n",
    "os.chdir(rslt_dir)\n",
    "os.getcwd()\n",
    "i_id_mapping = 'i_id_mapping.csv'\n",
    "meta_data_path = rslt_dir + f'meta-{dataset}.csv'"
   ]
  },
  {
   "cell_type": "markdown",
   "metadata": {
    "collapsed": false
   },
   "source": [
    "## Load text data"
   ]
  },
  {
   "cell_type": "code",
   "execution_count": 3,
   "metadata": {
    "collapsed": false,
    "pycharm": {
     "name": "#%%\n"
    }
   },
   "outputs": [
    {
     "name": "stdout",
     "output_type": "stream",
     "text": [
      "data loaded!\n",
      "shape: (11924, 10)\n"
     ]
    },
    {
     "data": {
      "text/html": [
       "<div>\n",
       "<style scoped>\n",
       "    .dataframe tbody tr th:only-of-type {\n",
       "        vertical-align: middle;\n",
       "    }\n",
       "\n",
       "    .dataframe tbody tr th {\n",
       "        vertical-align: top;\n",
       "    }\n",
       "\n",
       "    .dataframe thead th {\n",
       "        text-align: right;\n",
       "    }\n",
       "</style>\n",
       "<table border=\"1\" class=\"dataframe\">\n",
       "  <thead>\n",
       "    <tr style=\"text-align: right;\">\n",
       "      <th></th>\n",
       "      <th>itemID</th>\n",
       "      <th>asin</th>\n",
       "      <th>title</th>\n",
       "      <th>price</th>\n",
       "      <th>imUrl</th>\n",
       "      <th>related</th>\n",
       "      <th>brand</th>\n",
       "      <th>categories</th>\n",
       "      <th>salesRank</th>\n",
       "      <th>description</th>\n",
       "    </tr>\n",
       "  </thead>\n",
       "  <tbody>\n",
       "    <tr>\n",
       "      <th>4066</th>\n",
       "      <td>0</td>\n",
       "      <td>B001RNFQNK</td>\n",
       "      <td>Hasbro Electronic Catch Phrase</td>\n",
       "      <td>29.99</td>\n",
       "      <td>413BcULsveL._SX300_.jpg</td>\n",
       "      <td>{'also_bought': ['B00H4OKN48', 'B001RNC0VG', '...</td>\n",
       "      <td>Parker Brothers</td>\n",
       "      <td>['Toys &amp; Games', 'Games', 'Handheld Games']</td>\n",
       "      <td>{'Toys &amp; Games': 3095}</td>\n",
       "      <td>Classic Electronic Catch Phrase with all new p...</td>\n",
       "    </tr>\n",
       "    <tr>\n",
       "      <th>64</th>\n",
       "      <td>1</td>\n",
       "      <td>158978068X</td>\n",
       "      <td>Gloom</td>\n",
       "      <td>17.28</td>\n",
       "      <td>51H3uVu1VbL._SX300_.jpg</td>\n",
       "      <td>{}</td>\n",
       "      <td>Atlas</td>\n",
       "      <td>['Toys &amp; Games', 'Games', 'Board Games']</td>\n",
       "      <td>NaN</td>\n",
       "      <td>NaN</td>\n",
       "    </tr>\n",
       "    <tr>\n",
       "      <th>7248</th>\n",
       "      <td>2</td>\n",
       "      <td>B004S8F7QM</td>\n",
       "      <td>Cards Against Humanity</td>\n",
       "      <td>25.00</td>\n",
       "      <td>41164wOO6ZL._SX300_.jpg</td>\n",
       "      <td>{'also_bought': ['B005JFNE8G', 'B008JNPBYK', '...</td>\n",
       "      <td>NaN</td>\n",
       "      <td>['Toys &amp; Games', 'Games', 'Card Games']</td>\n",
       "      <td>{'Toys &amp; Games': 1}</td>\n",
       "      <td>Cards Against Humanity is a party game for hor...</td>\n",
       "    </tr>\n",
       "  </tbody>\n",
       "</table>\n",
       "</div>"
      ],
      "text/plain": [
       "      itemID        asin                           title  price  \\\n",
       "4066       0  B001RNFQNK  Hasbro Electronic Catch Phrase  29.99   \n",
       "64         1  158978068X                           Gloom  17.28   \n",
       "7248       2  B004S8F7QM          Cards Against Humanity  25.00   \n",
       "\n",
       "                        imUrl  \\\n",
       "4066  413BcULsveL._SX300_.jpg   \n",
       "64    51H3uVu1VbL._SX300_.jpg   \n",
       "7248  41164wOO6ZL._SX300_.jpg   \n",
       "\n",
       "                                                related            brand  \\\n",
       "4066  {'also_bought': ['B00H4OKN48', 'B001RNC0VG', '...  Parker Brothers   \n",
       "64                                                   {}            Atlas   \n",
       "7248  {'also_bought': ['B005JFNE8G', 'B008JNPBYK', '...              NaN   \n",
       "\n",
       "                                       categories               salesRank  \\\n",
       "4066  ['Toys & Games', 'Games', 'Handheld Games']  {'Toys & Games': 3095}   \n",
       "64       ['Toys & Games', 'Games', 'Board Games']                     NaN   \n",
       "7248      ['Toys & Games', 'Games', 'Card Games']     {'Toys & Games': 1}   \n",
       "\n",
       "                                            description  \n",
       "4066  Classic Electronic Catch Phrase with all new p...  \n",
       "64                                                  NaN  \n",
       "7248  Cards Against Humanity is a party game for hor...  "
      ]
     },
     "execution_count": 3,
     "metadata": {},
     "output_type": "execute_result"
    }
   ],
   "source": [
    "i_id, desc_str = 'itemID', 'description'\n",
    "\n",
    "\n",
    "df = pd.read_csv(meta_data_path)\n",
    "df.sort_values(by=[i_id], inplace=True)\n",
    "\n",
    "print('data loaded!')\n",
    "print(f'shape: {df.shape}')\n",
    "\n",
    "df[:3]"
   ]
  },
  {
   "cell_type": "code",
   "execution_count": 4,
   "metadata": {
    "collapsed": false,
    "pycharm": {
     "name": "#%%\n"
    }
   },
   "outputs": [
    {
     "name": "stdout",
     "output_type": "stream",
     "text": [
      "(59, 10)\n",
      "(798, 10)\n",
      "(34, 10)\n",
      "(34, 10)\n",
      "(0, 10)\n"
     ]
    }
   ],
   "source": [
    "\n",
    "# sentences: title + brand + category + description | All have title + description\n",
    "\n",
    "title_na_df = df[df['title'].isnull()]\n",
    "print(title_na_df.shape)\n",
    "\n",
    "desc_na_df = df[df['description'].isnull()]\n",
    "print(desc_na_df.shape)\n",
    "\n",
    "na_df = df[df['description'].isnull() & df['title'].isnull()]\n",
    "print(na_df.shape)\n",
    "\n",
    "na3_df = df[df['description'].isnull() & df['title'].isnull() & df['brand'].isnull()]\n",
    "print(na3_df.shape)\n",
    "\n",
    "na4_df = df[df['description'].isnull() & df['title'].isnull() & df['brand'].isnull() & df['categories'].isnull()]\n",
    "print(na4_df.shape)"
   ]
  },
  {
   "cell_type": "code",
   "execution_count": 5,
   "metadata": {
    "collapsed": false,
    "pycharm": {
     "name": "#%%\n"
    }
   },
   "outputs": [],
   "source": [
    "\n",
    "df[desc_str] = df[desc_str].fillna(\" \")\n",
    "df['title'] = df['title'].fillna(\" \")\n",
    "df['brand'] = df['brand'].fillna(\" \")\n",
    "df['categories'] = df['categories'].fillna(\" \")\n"
   ]
  },
  {
   "cell_type": "code",
   "execution_count": 6,
   "metadata": {
    "collapsed": false,
    "pycharm": {
     "name": "#%%\n"
    }
   },
   "outputs": [
    {
     "data": {
      "text/plain": [
       "['Hasbro Electronic Catch Phrase Parker Brothers T o y s   &   G a m e s Classic Electronic Catch Phrase with all new phrases to play. Say it fast, play it fast, it\\'s a blast. How quickly can you get your teammates to say \"backseat driver\"? \"Pay through the nose\"? \"Strong, silent type\"? You can do or say just about anything to get them to guess the phrase',\n",
       " 'Gloom Atlas T o y s   &   G a m e s  ',\n",
       " 'Cards Against Humanity   T o y s   &   G a m e s Cards Against Humanity is a party game for horrible people.Unlike most of the party games you\\'ve played before, Cards Against Humanity is as despicable and awkward as you and your friends.The game is simple. Each round, one player asks a question from a Black Card, and everyone else answers with their funniest White Card.Reviews of Cards Against Humanity:\"Pretty amazing.\" -The Onion AV Club\"An incredible game.\" -Mike \"Gabe\" Krahulik, Penny Arcade\"Uncontrollable laughter.\" -Kill Screen Magazine\"The game your party deserves.\" -Thrillist\"A game.\" -The Daily Beast',\n",
       " 'Carcassonne Basic Game Z-Man Games T o y s   &   G a m e s The Carcassonne is a clever tile-laying game. The southern French city of Carcassonne is famous for its unique roman and medieval fortifications. The players develop the area around Carcassonne and deploy their followers on the roads, in the cities, in the cloisters, and in the fields. The skill of the players to develop the area will determine who is victorious. The game is for ages 8 and up and 2 to 5 players.',\n",
       " 'Asmodee 7 Wonders Wonder Pack Asmodee T o y s   &   G a m e s In 7 Wonders Wonder Pack, players will obtain four new wonders to play with the base game: Stonehenge, Abu Simbel, The Great Wall of China and a new Manneken Pis. Contains 4 boards (different A & B sides); 4 wonder cards; and a rule book.',\n",
       " 'Village Board Game Tasty Minstrel T o y s   &   G a m e s Village life is hard. But villagers can grow and prosper as they please. Maybe as a friar, craftsmen, public servant, or seeking luck in distant lands. As time goes by, family members die, hopefully immortalized in the village chronicles, bringing glory to their family. Village utilizes a new, smart and unique action mechanism which keeps turns short, tactically rich and full of difficult decisions. Watch out, your family will die, make sure they are remembered.',\n",
       " \"Rory's Story Cubes - Voyages Gamewright T o y s   &   G a m e s Take a trip with Rory's Story Cubes. Contained within this set are 9 cubes that aim to inspire stories of epic adventure. Cast away on a deserted island. Spin tales of a faraway land. With 54 images and millions of combinations, your journeys are bound to be endless.\",\n",
       " 'Megabloks CAT 3in1 Ride On Truck   T o y s   &   G a m e s  ',\n",
       " \"Fisher-Price Jake and The Never Land Pirates - Jake's Musical Pirate Ship Bucky   T o y s   &   G a m e s  \",\n",
       " 'VTech KidiBeats Drum Set VTech T o y s   &   G a m e s Your child can rock out and learn with the VTech KidiBeats Drum Set. This drum set for kids comes with a pair of drumsticks that can be used to tap the four different electronic learning drums. Your child can drum freestyle or play along to nine pre-set melodies in a variety of musical styles. Or for more structured play, they can follow the lights on the drums as they learn about letters and numbers. With four ways to play and a variety of fun sounds, your child will love learning to the music with this educational toy.']"
      ]
     },
     "execution_count": 6,
     "metadata": {},
     "output_type": "execute_result"
    }
   ],
   "source": [
    "sentences = []\n",
    "for i, row in df.iterrows():\n",
    "    sen = row['title'] + ' ' + row['brand'] + ' '\n",
    "    cates = eval(row['categories'])\n",
    "    if isinstance(cates, list):\n",
    "        for c in cates[0]:\n",
    "            sen = sen + c + ' '\n",
    "    sen += row[desc_str]\n",
    "    sen = sen.replace('\\n', ' ')\n",
    "\n",
    "    sentences.append(sen)\n",
    "\n",
    "sentences[:10]"
   ]
  },
  {
   "cell_type": "code",
   "execution_count": 7,
   "metadata": {
    "collapsed": false,
    "pycharm": {
     "name": "#%%\n"
    }
   },
   "outputs": [
    {
     "name": "stdout",
     "output_type": "stream",
     "text": [
      "lastID: 11923 lastIdx: 11923\n"
     ]
    }
   ],
   "source": [
    "\n",
    "course_list = df[i_id].apply(int).tolist()\n",
    "#sentences = df[desc_str].tolist()\n",
    "lastID = course_list[-1]\n",
    "lastIdx = len(course_list) - 1\n",
    "print(f\"lastID: {lastID} lastIdx: {lastIdx}\")\n",
    "assert course_list[-1] == len(course_list) - 1"
   ]
  },
  {
   "cell_type": "code",
   "execution_count": 8,
   "metadata": {
    "collapsed": true
   },
   "outputs": [
    {
     "name": "stderr",
     "output_type": "stream",
     "text": [
      "/home/yueqi/anaconda3/envs/MMRec/lib/python3.7/site-packages/tqdm/auto.py:21: TqdmWarning: IProgress not found. Please update jupyter and ipywidgets. See https://ipywidgets.readthedocs.io/en/stable/user_install.html\n",
      "  from .autonotebook import tqdm as notebook_tqdm\n"
     ]
    },
    {
     "name": "stdout",
     "output_type": "stream",
     "text": [
      "text encoded!\n",
      "done!\n"
     ]
    }
   ],
   "source": [
    "# should `pip install sentence_transformers` first\n",
    "from sentence_transformers import SentenceTransformer\n",
    "\n",
    "model = SentenceTransformer('all-MiniLM-L6-v2')\n",
    "\n",
    "sentence_embeddings = model.encode(sentences)\n",
    "print('text encoded!')\n",
    "\n",
    "assert sentence_embeddings.shape[0] == df.shape[0]\n",
    "np.save(os.path.join(rslt_dir, 'text_feat.npy'), sentence_embeddings)\n",
    "print('done!')\n"
   ]
  },
  {
   "cell_type": "code",
   "execution_count": 9,
   "metadata": {
    "collapsed": false,
    "pycharm": {
     "name": "#%%\n"
    }
   },
   "outputs": [
    {
     "data": {
      "text/plain": [
       "array([[-0.01760189, -0.01881865,  0.0114401 , ...,  0.05846089,\n",
       "        -0.00442534, -0.02347583],\n",
       "       [-0.03766672,  0.06037303,  0.03006689, ..., -0.04724079,\n",
       "        -0.01372679, -0.08072826],\n",
       "       [-0.06160678,  0.05235229, -0.05429302, ..., -0.00620484,\n",
       "        -0.06693427,  0.0084694 ],\n",
       "       ...,\n",
       "       [ 0.03095264, -0.00148614,  0.0436652 , ...,  0.01172378,\n",
       "         0.01494396, -0.01617399],\n",
       "       [-0.09353577,  0.02738318,  0.03217479, ..., -0.04501066,\n",
       "         0.0366418 , -0.0262657 ],\n",
       "       [ 0.05711336, -0.02056006,  0.05397408, ...,  0.05541417,\n",
       "         0.03956362,  0.00096201]], dtype=float32)"
      ]
     },
     "execution_count": 9,
     "metadata": {},
     "output_type": "execute_result"
    }
   ],
   "source": [
    "sentence_embeddings[:10]"
   ]
  },
  {
   "cell_type": "code",
   "execution_count": 10,
   "metadata": {
    "collapsed": false,
    "pycharm": {
     "name": "#%%\n"
    }
   },
   "outputs": [
    {
     "name": "stdout",
     "output_type": "stream",
     "text": [
      "(11924, 384)\n"
     ]
    },
    {
     "data": {
      "text/plain": [
       "array([[-0.01760189, -0.01881865,  0.0114401 , ...,  0.05846089,\n",
       "        -0.00442534, -0.02347583],\n",
       "       [-0.03766672,  0.06037303,  0.03006689, ..., -0.04724079,\n",
       "        -0.01372679, -0.08072826],\n",
       "       [-0.06160678,  0.05235229, -0.05429302, ..., -0.00620484,\n",
       "        -0.06693427,  0.0084694 ],\n",
       "       ...,\n",
       "       [ 0.03095264, -0.00148614,  0.0436652 , ...,  0.01172378,\n",
       "         0.01494396, -0.01617399],\n",
       "       [-0.09353577,  0.02738318,  0.03217479, ..., -0.04501066,\n",
       "         0.0366418 , -0.0262657 ],\n",
       "       [ 0.05711336, -0.02056006,  0.05397408, ...,  0.05541417,\n",
       "         0.03956362,  0.00096201]], dtype=float32)"
      ]
     },
     "execution_count": 10,
     "metadata": {},
     "output_type": "execute_result"
    }
   ],
   "source": [
    "load_txt_feat = np.load('text_feat.npy', allow_pickle=True)\n",
    "print(load_txt_feat.shape)\n",
    "load_txt_feat[:10]"
   ]
  },
  {
   "cell_type": "markdown",
   "metadata": {
    "collapsed": false
   },
   "source": []
  },
  {
   "cell_type": "markdown",
   "metadata": {
    "collapsed": false
   },
   "source": [
    "# Image encoder (V0)，following LATTICE, averaging over for missed items"
   ]
  },
  {
   "cell_type": "code",
   "execution_count": 11,
   "metadata": {
    "collapsed": false,
    "pycharm": {
     "name": "#%%\n"
    }
   },
   "outputs": [
    {
     "data": {
      "text/html": [
       "<div>\n",
       "<style scoped>\n",
       "    .dataframe tbody tr th:only-of-type {\n",
       "        vertical-align: middle;\n",
       "    }\n",
       "\n",
       "    .dataframe tbody tr th {\n",
       "        vertical-align: top;\n",
       "    }\n",
       "\n",
       "    .dataframe thead th {\n",
       "        text-align: right;\n",
       "    }\n",
       "</style>\n",
       "<table border=\"1\" class=\"dataframe\">\n",
       "  <thead>\n",
       "    <tr style=\"text-align: right;\">\n",
       "      <th></th>\n",
       "      <th>itemID</th>\n",
       "      <th>asin</th>\n",
       "      <th>title</th>\n",
       "      <th>price</th>\n",
       "      <th>imUrl</th>\n",
       "      <th>related</th>\n",
       "      <th>brand</th>\n",
       "      <th>categories</th>\n",
       "      <th>salesRank</th>\n",
       "      <th>description</th>\n",
       "    </tr>\n",
       "  </thead>\n",
       "  <tbody>\n",
       "    <tr>\n",
       "      <th>4066</th>\n",
       "      <td>0</td>\n",
       "      <td>B001RNFQNK</td>\n",
       "      <td>Hasbro Electronic Catch Phrase</td>\n",
       "      <td>29.99</td>\n",
       "      <td>413BcULsveL._SX300_.jpg</td>\n",
       "      <td>{'also_bought': ['B00H4OKN48', 'B001RNC0VG', '...</td>\n",
       "      <td>Parker Brothers</td>\n",
       "      <td>['Toys &amp; Games', 'Games', 'Handheld Games']</td>\n",
       "      <td>{'Toys &amp; Games': 3095}</td>\n",
       "      <td>Classic Electronic Catch Phrase with all new p...</td>\n",
       "    </tr>\n",
       "    <tr>\n",
       "      <th>64</th>\n",
       "      <td>1</td>\n",
       "      <td>158978068X</td>\n",
       "      <td>Gloom</td>\n",
       "      <td>17.28</td>\n",
       "      <td>51H3uVu1VbL._SX300_.jpg</td>\n",
       "      <td>{}</td>\n",
       "      <td>Atlas</td>\n",
       "      <td>['Toys &amp; Games', 'Games', 'Board Games']</td>\n",
       "      <td>NaN</td>\n",
       "      <td></td>\n",
       "    </tr>\n",
       "    <tr>\n",
       "      <th>7248</th>\n",
       "      <td>2</td>\n",
       "      <td>B004S8F7QM</td>\n",
       "      <td>Cards Against Humanity</td>\n",
       "      <td>25.00</td>\n",
       "      <td>41164wOO6ZL._SX300_.jpg</td>\n",
       "      <td>{'also_bought': ['B005JFNE8G', 'B008JNPBYK', '...</td>\n",
       "      <td></td>\n",
       "      <td>['Toys &amp; Games', 'Games', 'Card Games']</td>\n",
       "      <td>{'Toys &amp; Games': 1}</td>\n",
       "      <td>Cards Against Humanity is a party game for hor...</td>\n",
       "    </tr>\n",
       "    <tr>\n",
       "      <th>9779</th>\n",
       "      <td>3</td>\n",
       "      <td>B008ULAMSG</td>\n",
       "      <td>Carcassonne Basic Game</td>\n",
       "      <td>25.86</td>\n",
       "      <td>51286n8bV6L._SY300_.jpg</td>\n",
       "      <td>{'also_bought': ['B00BJLUGNK', 'B00008URUN', '...</td>\n",
       "      <td>Z-Man Games</td>\n",
       "      <td>['Toys &amp; Games', 'Games', 'Board Games']</td>\n",
       "      <td>{'Toys &amp; Games': 679}</td>\n",
       "      <td>The Carcassonne is a clever tile-laying game. ...</td>\n",
       "    </tr>\n",
       "    <tr>\n",
       "      <th>10789</th>\n",
       "      <td>4</td>\n",
       "      <td>B00BYPG57W</td>\n",
       "      <td>Asmodee 7 Wonders Wonder Pack</td>\n",
       "      <td>11.90</td>\n",
       "      <td>51uIPYBgHcL._SX300_.jpg</td>\n",
       "      <td>{'also_bought': ['B0055CAF6M', 'B007IW0HME', '...</td>\n",
       "      <td>Asmodee</td>\n",
       "      <td>['Toys &amp; Games', 'Games', 'Board Games']</td>\n",
       "      <td>{'Toys &amp; Games': 3824}</td>\n",
       "      <td>In 7 Wonders Wonder Pack, players will obtain ...</td>\n",
       "    </tr>\n",
       "  </tbody>\n",
       "</table>\n",
       "</div>"
      ],
      "text/plain": [
       "       itemID        asin                           title  price  \\\n",
       "4066        0  B001RNFQNK  Hasbro Electronic Catch Phrase  29.99   \n",
       "64          1  158978068X                           Gloom  17.28   \n",
       "7248        2  B004S8F7QM          Cards Against Humanity  25.00   \n",
       "9779        3  B008ULAMSG          Carcassonne Basic Game  25.86   \n",
       "10789       4  B00BYPG57W   Asmodee 7 Wonders Wonder Pack  11.90   \n",
       "\n",
       "                         imUrl  \\\n",
       "4066   413BcULsveL._SX300_.jpg   \n",
       "64     51H3uVu1VbL._SX300_.jpg   \n",
       "7248   41164wOO6ZL._SX300_.jpg   \n",
       "9779   51286n8bV6L._SY300_.jpg   \n",
       "10789  51uIPYBgHcL._SX300_.jpg   \n",
       "\n",
       "                                                 related            brand  \\\n",
       "4066   {'also_bought': ['B00H4OKN48', 'B001RNC0VG', '...  Parker Brothers   \n",
       "64                                                    {}            Atlas   \n",
       "7248   {'also_bought': ['B005JFNE8G', 'B008JNPBYK', '...                    \n",
       "9779   {'also_bought': ['B00BJLUGNK', 'B00008URUN', '...      Z-Man Games   \n",
       "10789  {'also_bought': ['B0055CAF6M', 'B007IW0HME', '...          Asmodee   \n",
       "\n",
       "                                        categories               salesRank  \\\n",
       "4066   ['Toys & Games', 'Games', 'Handheld Games']  {'Toys & Games': 3095}   \n",
       "64        ['Toys & Games', 'Games', 'Board Games']                     NaN   \n",
       "7248       ['Toys & Games', 'Games', 'Card Games']     {'Toys & Games': 1}   \n",
       "9779      ['Toys & Games', 'Games', 'Board Games']   {'Toys & Games': 679}   \n",
       "10789     ['Toys & Games', 'Games', 'Board Games']  {'Toys & Games': 3824}   \n",
       "\n",
       "                                             description  \n",
       "4066   Classic Electronic Catch Phrase with all new p...  \n",
       "64                                                        \n",
       "7248   Cards Against Humanity is a party game for hor...  \n",
       "9779   The Carcassonne is a clever tile-laying game. ...  \n",
       "10789  In 7 Wonders Wonder Pack, players will obtain ...  "
      ]
     },
     "execution_count": 11,
     "metadata": {},
     "output_type": "execute_result"
    }
   ],
   "source": [
    "df[:5]"
   ]
  },
  {
   "cell_type": "code",
   "execution_count": 12,
   "metadata": {
    "collapsed": false,
    "pycharm": {
     "name": "#%%\n"
    }
   },
   "outputs": [],
   "source": [
    "import array\n",
    "\n",
    "def readImageFeatures(path):\n",
    "  f = open(path, 'rb')\n",
    "  while True:\n",
    "    asin = f.read(10).decode('UTF-8')\n",
    "    if asin == '': break\n",
    "    a = array.array('f')\n",
    "    a.fromfile(f, 4096)\n",
    "    yield asin, a.tolist()"
   ]
  },
  {
   "cell_type": "code",
   "execution_count": 13,
   "metadata": {
    "collapsed": false,
    "pycharm": {
     "name": "#%%\n"
    }
   },
   "outputs": [
    {
     "name": "stdout",
     "output_type": "stream",
     "text": [
      "# of items not in processed image features: 86\n",
      "done!\n"
     ]
    }
   ],
   "source": [
    "\n",
    "img_data = readImageFeatures(image_features)\n",
    "item2id = dict(zip(df['asin'], df['itemID']))\n",
    "\n",
    "feats = {}\n",
    "avg = []\n",
    "for d in img_data:\n",
    "    if d[0] in item2id:\n",
    "        feats[int(item2id[d[0]])] = d[1]\n",
    "        avg.append(d[1])\n",
    "avg = np.array(avg).mean(0).tolist()\n",
    "\n",
    "ret = []\n",
    "non_no = []\n",
    "for i in range(len(item2id)):\n",
    "    if i in feats:\n",
    "        ret.append(feats[i])\n",
    "    else:\n",
    "        non_no.append(i)\n",
    "        ret.append(avg)\n",
    "\n",
    "print('# of items not in processed image features:', len(non_no))\n",
    "assert len(ret) == len(item2id)\n",
    "np.save('image_feat.npy', np.array(ret))\n",
    "np.savetxt(\"missed_img_itemIDs.csv\", non_no, delimiter =\",\", fmt ='%d')\n",
    "print('done!')"
   ]
  }
 ],
 "metadata": {
  "kernelspec": {
   "display_name": "MMRec",
   "language": "python",
   "name": "python3"
  },
  "language_info": {
   "codemirror_mode": {
    "name": "ipython",
    "version": 3
   },
   "file_extension": ".py",
   "mimetype": "text/x-python",
   "name": "python",
   "nbconvert_exporter": "python",
   "pygments_lexer": "ipython3",
   "version": "3.7.12"
  }
 },
 "nbformat": 4,
 "nbformat_minor": 0
}
