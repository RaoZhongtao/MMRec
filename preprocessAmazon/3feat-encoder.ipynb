{
 "cells": [
  {
   "cell_type": "markdown",
   "metadata": {
    "collapsed": false
   },
   "source": [
    "# Sports14 Text/Image Feature Extraction"
   ]
  },
  {
   "cell_type": "markdown",
   "metadata": {
    "collapsed": false
   },
   "source": []
  },
  {
   "cell_type": "code",
   "execution_count": 1,
   "metadata": {
    "collapsed": false,
    "pycharm": {
     "name": "#%%\n"
    }
   },
   "outputs": [],
   "source": [
    "\n",
    "import os\n",
    "import numpy as np\n",
    "import pandas as pd"
   ]
  },
  {
   "cell_type": "code",
   "execution_count": 2,
   "metadata": {
    "collapsed": false,
    "pycharm": {
     "is_executing": true,
     "name": "#%%\n"
    }
   },
   "outputs": [],
   "source": [
    "dataset = 'sports'\n",
    "rslt_dir = f'/home/yueqi/peilin/MMRec/data/AmazonReview/{dataset}/'\n",
    "image_dir = f'/home/yueqi/peilin/MMRec/AmazonRawData/Amazon_Review_Plus/photos/{dataset}/'\n",
    "image_features = 'image_features_{dataset}.b'\n",
    "os.chdir(rslt_dir)\n",
    "os.getcwd()\n",
    "i_id_mapping = 'i_id_mapping.csv'\n",
    "meta_data_path = rslt_dir + f'meta-{dataset}.csv'"
   ]
  },
  {
   "cell_type": "markdown",
   "metadata": {
    "collapsed": false
   },
   "source": [
    "## Load text data"
   ]
  },
  {
   "cell_type": "code",
   "execution_count": 3,
   "metadata": {
    "collapsed": false,
    "pycharm": {
     "name": "#%%\n"
    }
   },
   "outputs": [
    {
     "name": "stdout",
     "output_type": "stream",
     "text": [
      "data loaded!\n",
      "shape: (18357, 10)\n"
     ]
    },
    {
     "data": {
      "text/html": [
       "<div>\n",
       "<style scoped>\n",
       "    .dataframe tbody tr th:only-of-type {\n",
       "        vertical-align: middle;\n",
       "    }\n",
       "\n",
       "    .dataframe tbody tr th {\n",
       "        vertical-align: top;\n",
       "    }\n",
       "\n",
       "    .dataframe thead th {\n",
       "        text-align: right;\n",
       "    }\n",
       "</style>\n",
       "<table border=\"1\" class=\"dataframe\">\n",
       "  <thead>\n",
       "    <tr style=\"text-align: right;\">\n",
       "      <th></th>\n",
       "      <th>itemID</th>\n",
       "      <th>asin</th>\n",
       "      <th>title</th>\n",
       "      <th>price</th>\n",
       "      <th>imUrl</th>\n",
       "      <th>related</th>\n",
       "      <th>brand</th>\n",
       "      <th>categories</th>\n",
       "      <th>salesRank</th>\n",
       "      <th>description</th>\n",
       "    </tr>\n",
       "  </thead>\n",
       "  <tbody>\n",
       "    <tr>\n",
       "      <th>0</th>\n",
       "      <td>1</td>\n",
       "      <td>1881509818</td>\n",
       "      <td>Ghost Inc Glock Armorers Tool 3/32 Punch</td>\n",
       "      <td>9.99</td>\n",
       "      <td>21iMxsyDBRL._SX300_.jpg</td>\n",
       "      <td>{'also_bought': ['B000U3YWEM', 'B000U401J6', '...</td>\n",
       "      <td>Ghost</td>\n",
       "      <td>['Sports &amp; Outdoors', 'Hunting &amp; Fishing', 'Hu...</td>\n",
       "      <td>{'Sports &amp;amp; Outdoors': 172909}</td>\n",
       "      <td>Ghost Armorer Tool (1). The GAT is made with a...</td>\n",
       "    </tr>\n",
       "    <tr>\n",
       "      <th>11982</th>\n",
       "      <td>2</td>\n",
       "      <td>B0048KGFHU</td>\n",
       "      <td>Tipton Polymer Gun Cleaning Picks</td>\n",
       "      <td>6.34</td>\n",
       "      <td>31K7ShuOAWL._SY300_.jpg</td>\n",
       "      <td>{'also_bought': ['B006T6Y56E', 'B00162OKDY', '...</td>\n",
       "      <td>Tipton</td>\n",
       "      <td>['Sports &amp; Outdoors', 'Hunting &amp; Fishing', 'Hu...</td>\n",
       "      <td>{'Sports &amp;amp; Outdoors': 501}</td>\n",
       "      <td>Here's a clever idea that belongs in every cle...</td>\n",
       "    </tr>\n",
       "    <tr>\n",
       "      <th>15852</th>\n",
       "      <td>3</td>\n",
       "      <td>B0081JJVUC</td>\n",
       "      <td>TekMat 11-Inch X 17-Inch Handgun Cleaning Mat ...</td>\n",
       "      <td>10.67</td>\n",
       "      <td>51gB5DgFUBL._SY300_.jpg</td>\n",
       "      <td>{'also_bought': ['B0014VX2M2', 'B0036N474S', '...</td>\n",
       "      <td>TekMat</td>\n",
       "      <td>['Sports &amp; Outdoors', 'Hunting &amp; Fishing', 'Hu...</td>\n",
       "      <td>{'Sports &amp;amp; Outdoors': 9061}</td>\n",
       "      <td>Your gun is a proud possession as well as an i...</td>\n",
       "    </tr>\n",
       "  </tbody>\n",
       "</table>\n",
       "</div>"
      ],
      "text/plain": [
       "       itemID        asin                                              title  \\\n",
       "0           1  1881509818           Ghost Inc Glock Armorers Tool 3/32 Punch   \n",
       "11982       2  B0048KGFHU                  Tipton Polymer Gun Cleaning Picks   \n",
       "15852       3  B0081JJVUC  TekMat 11-Inch X 17-Inch Handgun Cleaning Mat ...   \n",
       "\n",
       "       price                    imUrl  \\\n",
       "0       9.99  21iMxsyDBRL._SX300_.jpg   \n",
       "11982   6.34  31K7ShuOAWL._SY300_.jpg   \n",
       "15852  10.67  51gB5DgFUBL._SY300_.jpg   \n",
       "\n",
       "                                                 related   brand  \\\n",
       "0      {'also_bought': ['B000U3YWEM', 'B000U401J6', '...   Ghost   \n",
       "11982  {'also_bought': ['B006T6Y56E', 'B00162OKDY', '...  Tipton   \n",
       "15852  {'also_bought': ['B0014VX2M2', 'B0036N474S', '...  TekMat   \n",
       "\n",
       "                                              categories  \\\n",
       "0      ['Sports & Outdoors', 'Hunting & Fishing', 'Hu...   \n",
       "11982  ['Sports & Outdoors', 'Hunting & Fishing', 'Hu...   \n",
       "15852  ['Sports & Outdoors', 'Hunting & Fishing', 'Hu...   \n",
       "\n",
       "                               salesRank  \\\n",
       "0      {'Sports &amp; Outdoors': 172909}   \n",
       "11982     {'Sports &amp; Outdoors': 501}   \n",
       "15852    {'Sports &amp; Outdoors': 9061}   \n",
       "\n",
       "                                             description  \n",
       "0      Ghost Armorer Tool (1). The GAT is made with a...  \n",
       "11982  Here's a clever idea that belongs in every cle...  \n",
       "15852  Your gun is a proud possession as well as an i...  "
      ]
     },
     "execution_count": 3,
     "metadata": {},
     "output_type": "execute_result"
    }
   ],
   "source": [
    "i_id, desc_str = 'itemID', 'description'\n",
    "\n",
    "\n",
    "df = pd.read_csv(meta_data_path)\n",
    "df.sort_values(by=[i_id], inplace=True)\n",
    "\n",
    "print('data loaded!')\n",
    "print(f'shape: {df.shape}')\n",
    "\n",
    "df[:3]"
   ]
  },
  {
   "cell_type": "code",
   "execution_count": 4,
   "metadata": {
    "collapsed": false,
    "pycharm": {
     "name": "#%%\n"
    }
   },
   "outputs": [
    {
     "name": "stdout",
     "output_type": "stream",
     "text": [
      "(91, 10)\n",
      "(2659, 10)\n",
      "(40, 10)\n",
      "(40, 10)\n",
      "(0, 10)\n"
     ]
    }
   ],
   "source": [
    "\n",
    "# sentences: title + brand + category + description | All have title + description\n",
    "\n",
    "title_na_df = df[df['title'].isnull()]\n",
    "print(title_na_df.shape)\n",
    "\n",
    "desc_na_df = df[df['description'].isnull()]\n",
    "print(desc_na_df.shape)\n",
    "\n",
    "na_df = df[df['description'].isnull() & df['title'].isnull()]\n",
    "print(na_df.shape)\n",
    "\n",
    "na3_df = df[df['description'].isnull() & df['title'].isnull() & df['brand'].isnull()]\n",
    "print(na3_df.shape)\n",
    "\n",
    "na4_df = df[df['description'].isnull() & df['title'].isnull() & df['brand'].isnull() & df['categories'].isnull()]\n",
    "print(na4_df.shape)"
   ]
  },
  {
   "cell_type": "code",
   "execution_count": 5,
   "metadata": {
    "collapsed": false,
    "pycharm": {
     "name": "#%%\n"
    }
   },
   "outputs": [],
   "source": [
    "\n",
    "df[desc_str] = df[desc_str].fillna(\" \")\n",
    "df['title'] = df['title'].fillna(\" \")\n",
    "df['brand'] = df['brand'].fillna(\" \")\n",
    "df['categories'] = df['categories'].fillna(\" \")\n"
   ]
  },
  {
   "cell_type": "code",
   "execution_count": 6,
   "metadata": {
    "collapsed": false,
    "pycharm": {
     "name": "#%%\n"
    }
   },
   "outputs": [
    {
     "data": {
      "text/plain": [
       "['Ghost Inc Glock Armorers Tool 3/32 Punch Ghost S p o r t s   &   O u t d o o r s Ghost Armorer Tool (1). The GAT is made with a spring steel punch. The diameter is 3/32 of an inch or 2.5mm, this is the same as the OEM tool size. The difference is you will be able to press harder without bending the shaft of this punch. Just a better tool to work on your Glock with.',\n",
       " \"Tipton Polymer Gun Cleaning Picks Tipton S p o r t s   &   O u t d o o r s Here's a clever idea that belongs in every cleaning kit - Gun-Cleaning Picks. This set of four picks with different configurations on each end provides eight different combinations to get into those tight, hard to reach places. Made of high-strength polymer so they won't scratch the finest surface. Set of four picks.\",\n",
       " \"TekMat 11-Inch X 17-Inch Handgun Cleaning Mat with Glock Imprint, Black TekMat S p o r t s   &   O u t d o o r s Your gun is a proud possession as well as an investment and should be protected as such. TekMats depict the fascinating mechanical assembly of each firearm accompanied with data, history and details on each gun. We don't want cleaning, repairing or storing your firearm to be a chore and when seated in front of one of these gun mats, it certainly won't be. Aside from the aesthetic and intellectual appeal; TekMats also serve a very purposeful and functional role in protecting your firearms. They worked with numerous suppliers and tested many materials to find one that would be suited for both the imprinting of the design as well as protection of your firearm. The top surface of the gun mat is soft and made to protect your gun from scratches while the rubber backing will help to absorb damaging impacts from accidentally dropping your gun or parts while working on them and it also helps hold the mat in place while it is in use. We also utilize a special printing technology that prevents the ink from simply sitting on top of the material but instead fuses the ink into the fibers of the cloth via sublimation. This keeps the surface of the gun pads completely soft and even and helps ensure the print will last through repeated washing and cleaning of the gun mat.\",\n",
       " 'Lee Precision Powder Measure Kit Lee S p o r t s   &   O u t d o o r s Lee Powder Measure Dipper Kit includes 15 graduated powder dippers from .3cc to 4.3cc. Slide card included has powder dispensing chart.&#xA0;Dipper data revised April of 2012.',\n",
       " \"Glock Magazine Speed Loader for 9mm / .40 / .357 / .380 Auto / .45 GAP Mags - Model 483 Glock S p o r t s   &   O u t d o o r s Stop busting your fingers loading Glock Magazines. This handy convenient tool allows for fast, pain free loading. You'll find this to be especially useful with the super high capacity magazines. Sturdy design made of Glock polymer, slides readily over all Glock magazines for the following calibers: 9mm (9 x 19) / .40 / .357 / .380 Auto  & .45 GAP (Not for 45 Auto, G42 Single Stack .380 or 10mm).\",\n",
       " 'Glock Gen4 Beavertail Backstrap Kit G23/19/32 Glock S p o r t s   &   O u t d o o r s Glock factory backstrap kit for the Gen 4 19, 23, and 32. Works ONLY on Gen 4 Glock pistols listed.',\n",
       " 'GLOCK SAFE ACTION ALUMINUM SIGN Glock S p o r t s   &   O u t d o o r s  ',\n",
       " 'Lee Precision Pin/90292 Universal Decapping Lee S p o r t s   &   O u t d o o r s Lee Replacement decapping pin for our Universal Decapping Die (#90292) 557 SNIDER 3 Die Set (#90929)',\n",
       " \"BARSKA 1x30 IR M-16 Electro Sight Riflescope Barska S p o r t s   &   O u t d o o r s The 1x30 electro sight riflescope is designed for quick tactical shooting.The scope includes a tactical red illuminated cross reticle.Designed for quick tactical shooting, the Barska 1x30 M-16 electro sight riflescope is perfect for everything from targets to turkeys. The riflescope offers such features as a seven-position reticle illumination adjustment, 1/2-inch-click adjustable windage and elevation adjustments, and a removable magnification objective lens. As a result, you'll enjoy plenty of eye relief and increased shooting accuracy. The scope's multi-coated ruby lenses, meanwhile, produce sharp images with minimum glare--a must for precision aiming. And thanks to the scope's high impact rating, it's built strong to withstand high-caliber recoil shot after shot. Other features include a parallax-free image at 100 yards, a standard Weaver-style mount, a black matte finish, a tactical red illuminated cross reticle, and a five-position rheostat that allows you to make individual reticle brightness adjustments. Built to provide unlimited eye relief for such rifles as the AR-15, M-16, M-4, and SKS, the 1x30 scope carries Barska's one-year limited warranty.Specifications:Magnification: 1xObjective lens: 30mmReticle: Red IR crossExit pupil: 23mmOptical coating: Fully coatedField of view: 54 feet @ 100 yardsEye relief: UnlimitedAdjustment knob: Side windage and elevationElevation: Black matteLength: 6 inchesWeight: 12.8 ouncesIncluded accessories: Battery and lens clothWarranty: 1 yearAbout BarskaBarska is a worldwide sport optics company with strong brand recognition within the optics industry, with corporate offices in La Verne, California, and warehouses and distribution centers in La Verne and Shanghai, China. Barska offers an extensive line of precision sport optics products, such as binoculars, riflescopes, spotting scopes, and telescopes. The product range has been designed and built with the latest optical technology, allowing users to enjoy all their favorite leisure time outdoor activities, including bird watching, outdoor observation, hunting, fishing, stargazing, concerts, and sporting events.\",\n",
       " \"Trijicon NS 3Dot Set (GR/GR) T0963   S p o r t s   &   O u t d o o r s Trijicon produces military tested products that are proven to be tough, reliable and best in class. These Bright & Tough Night Sights feature all steel body construction with silicon rubber cushions that provide shock protection for the tritium-filled glass vials that are encased in an aluminum housing. That's what keeps them glowing at night even after thousands of rounds fired. Guaranteed to glow for 12 years from the date of manufacture. Notice the white rings around the glowing dots that provide superior daylight visibility and the extra large front dot for quick target acquisition. Equally impressive, they allow faster speeds as instinctive shooting - and without the need for batteries.   You can't go wrong with Trijicon....available for all Glock models and most other combat handguns.\"]"
      ]
     },
     "execution_count": 6,
     "metadata": {},
     "output_type": "execute_result"
    }
   ],
   "source": [
    "sentences = []\n",
    "for i, row in df.iterrows():\n",
    "    sen = row['title'] + ' ' + row['brand'] + ' '\n",
    "    cates = eval(row['categories'])\n",
    "    if isinstance(cates, list):\n",
    "        for c in cates[0]:\n",
    "            sen = sen + c + ' '\n",
    "    sen += row[desc_str]\n",
    "    sen = sen.replace('\\n', ' ')\n",
    "\n",
    "    sentences.append(sen)\n",
    "\n",
    "sentences[:10]"
   ]
  },
  {
   "cell_type": "code",
   "execution_count": 7,
   "metadata": {
    "collapsed": false,
    "pycharm": {
     "name": "#%%\n"
    }
   },
   "outputs": [
    {
     "name": "stdout",
     "output_type": "stream",
     "text": [
      "lastID: 18357 lastIdx: 18356\n"
     ]
    }
   ],
   "source": [
    "\n",
    "course_list = df[i_id].tolist()\n",
    "#sentences = df[desc_str].tolist()\n",
    "lastID = course_list[-1]\n",
    "lastIdx = len(course_list) - 1\n",
    "print(f\"lastID: {lastID} lastIdx: {lastIdx}\")\n",
    "assert course_list[-1] == len(course_list)"
   ]
  },
  {
   "cell_type": "code",
   "execution_count": 8,
   "metadata": {
    "collapsed": true
   },
   "outputs": [
    {
     "name": "stderr",
     "output_type": "stream",
     "text": [
      "/home/yueqi/anaconda3/envs/MMRec/lib/python3.7/site-packages/tqdm/auto.py:21: TqdmWarning: IProgress not found. Please update jupyter and ipywidgets. See https://ipywidgets.readthedocs.io/en/stable/user_install.html\n",
      "  from .autonotebook import tqdm as notebook_tqdm\n"
     ]
    },
    {
     "name": "stdout",
     "output_type": "stream",
     "text": [
      "text encoded!\n",
      "done!\n"
     ]
    }
   ],
   "source": [
    "# should `pip install sentence_transformers` first\n",
    "from sentence_transformers import SentenceTransformer\n",
    "\n",
    "model = SentenceTransformer('all-MiniLM-L6-v2')\n",
    "\n",
    "sentence_embeddings = model.encode(sentences)\n",
    "print('text encoded!')\n",
    "\n",
    "assert sentence_embeddings.shape[0] == df.shape[0]\n",
    "np.save(os.path.join(rslt_dir, 'text_feat.npy'), sentence_embeddings)\n",
    "print('done!')\n"
   ]
  },
  {
   "cell_type": "code",
   "execution_count": 9,
   "metadata": {
    "collapsed": false,
    "pycharm": {
     "name": "#%%\n"
    }
   },
   "outputs": [
    {
     "data": {
      "text/plain": [
       "array([[-0.1321447 ,  0.03381675, -0.01577879, ..., -0.09672257,\n",
       "         0.052081  ,  0.06492253],\n",
       "       [-0.10782257, -0.02839002,  0.0622814 , ..., -0.04174746,\n",
       "         0.01380114,  0.04938785],\n",
       "       [-0.10046259,  0.12085465, -0.02257576, ..., -0.10255246,\n",
       "         0.01178748, -0.00671982],\n",
       "       ...,\n",
       "       [-0.06964527, -0.04203182, -0.06922724, ..., -0.04277774,\n",
       "         0.03630504,  0.05333261],\n",
       "       [ 0.01461751,  0.04413512, -0.07554795, ..., -0.09187356,\n",
       "        -0.13955116, -0.01189312],\n",
       "       [-0.07896899, -0.00106236, -0.04540033, ..., -0.11145744,\n",
       "        -0.03114022,  0.08727177]], dtype=float32)"
      ]
     },
     "execution_count": 9,
     "metadata": {},
     "output_type": "execute_result"
    }
   ],
   "source": [
    "sentence_embeddings[:10]"
   ]
  },
  {
   "cell_type": "code",
   "execution_count": 10,
   "metadata": {
    "collapsed": false,
    "pycharm": {
     "name": "#%%\n"
    }
   },
   "outputs": [
    {
     "name": "stdout",
     "output_type": "stream",
     "text": [
      "(18357, 384)\n"
     ]
    },
    {
     "data": {
      "text/plain": [
       "array([[-0.1321447 ,  0.03381675, -0.01577879, ..., -0.09672257,\n",
       "         0.052081  ,  0.06492253],\n",
       "       [-0.10782257, -0.02839002,  0.0622814 , ..., -0.04174746,\n",
       "         0.01380114,  0.04938785],\n",
       "       [-0.10046259,  0.12085465, -0.02257576, ..., -0.10255246,\n",
       "         0.01178748, -0.00671982],\n",
       "       ...,\n",
       "       [-0.06964527, -0.04203182, -0.06922724, ..., -0.04277774,\n",
       "         0.03630504,  0.05333261],\n",
       "       [ 0.01461751,  0.04413512, -0.07554795, ..., -0.09187356,\n",
       "        -0.13955116, -0.01189312],\n",
       "       [-0.07896899, -0.00106236, -0.04540033, ..., -0.11145744,\n",
       "        -0.03114022,  0.08727177]], dtype=float32)"
      ]
     },
     "execution_count": 10,
     "metadata": {},
     "output_type": "execute_result"
    }
   ],
   "source": [
    "load_txt_feat = np.load('text_feat.npy', allow_pickle=True)\n",
    "print(load_txt_feat.shape)\n",
    "load_txt_feat[:10]"
   ]
  },
  {
   "cell_type": "markdown",
   "metadata": {
    "collapsed": false
   },
   "source": []
  },
  {
   "cell_type": "markdown",
   "metadata": {
    "collapsed": false
   },
   "source": [
    "# Image encoder (V0)，following LATTICE, averaging over for missed items"
   ]
  },
  {
   "cell_type": "code",
   "execution_count": 11,
   "metadata": {
    "collapsed": false,
    "pycharm": {
     "name": "#%%\n"
    }
   },
   "outputs": [
    {
     "data": {
      "text/html": [
       "<div>\n",
       "<style scoped>\n",
       "    .dataframe tbody tr th:only-of-type {\n",
       "        vertical-align: middle;\n",
       "    }\n",
       "\n",
       "    .dataframe tbody tr th {\n",
       "        vertical-align: top;\n",
       "    }\n",
       "\n",
       "    .dataframe thead th {\n",
       "        text-align: right;\n",
       "    }\n",
       "</style>\n",
       "<table border=\"1\" class=\"dataframe\">\n",
       "  <thead>\n",
       "    <tr style=\"text-align: right;\">\n",
       "      <th></th>\n",
       "      <th>itemID</th>\n",
       "      <th>asin</th>\n",
       "      <th>title</th>\n",
       "      <th>price</th>\n",
       "      <th>imUrl</th>\n",
       "      <th>related</th>\n",
       "      <th>brand</th>\n",
       "      <th>categories</th>\n",
       "      <th>salesRank</th>\n",
       "      <th>description</th>\n",
       "    </tr>\n",
       "  </thead>\n",
       "  <tbody>\n",
       "    <tr>\n",
       "      <th>0</th>\n",
       "      <td>1</td>\n",
       "      <td>1881509818</td>\n",
       "      <td>Ghost Inc Glock Armorers Tool 3/32 Punch</td>\n",
       "      <td>9.99</td>\n",
       "      <td>21iMxsyDBRL._SX300_.jpg</td>\n",
       "      <td>{'also_bought': ['B000U3YWEM', 'B000U401J6', '...</td>\n",
       "      <td>Ghost</td>\n",
       "      <td>['Sports &amp; Outdoors', 'Hunting &amp; Fishing', 'Hu...</td>\n",
       "      <td>{'Sports &amp;amp; Outdoors': 172909}</td>\n",
       "      <td>Ghost Armorer Tool (1). The GAT is made with a...</td>\n",
       "    </tr>\n",
       "    <tr>\n",
       "      <th>11982</th>\n",
       "      <td>2</td>\n",
       "      <td>B0048KGFHU</td>\n",
       "      <td>Tipton Polymer Gun Cleaning Picks</td>\n",
       "      <td>6.34</td>\n",
       "      <td>31K7ShuOAWL._SY300_.jpg</td>\n",
       "      <td>{'also_bought': ['B006T6Y56E', 'B00162OKDY', '...</td>\n",
       "      <td>Tipton</td>\n",
       "      <td>['Sports &amp; Outdoors', 'Hunting &amp; Fishing', 'Hu...</td>\n",
       "      <td>{'Sports &amp;amp; Outdoors': 501}</td>\n",
       "      <td>Here's a clever idea that belongs in every cle...</td>\n",
       "    </tr>\n",
       "    <tr>\n",
       "      <th>15852</th>\n",
       "      <td>3</td>\n",
       "      <td>B0081JJVUC</td>\n",
       "      <td>TekMat 11-Inch X 17-Inch Handgun Cleaning Mat ...</td>\n",
       "      <td>10.67</td>\n",
       "      <td>51gB5DgFUBL._SY300_.jpg</td>\n",
       "      <td>{'also_bought': ['B0014VX2M2', 'B0036N474S', '...</td>\n",
       "      <td>TekMat</td>\n",
       "      <td>['Sports &amp; Outdoors', 'Hunting &amp; Fishing', 'Hu...</td>\n",
       "      <td>{'Sports &amp;amp; Outdoors': 9061}</td>\n",
       "      <td>Your gun is a proud possession as well as an i...</td>\n",
       "    </tr>\n",
       "    <tr>\n",
       "      <th>3320</th>\n",
       "      <td>4</td>\n",
       "      <td>B000N8OIE8</td>\n",
       "      <td>Lee Precision Powder Measure Kit</td>\n",
       "      <td>11.46</td>\n",
       "      <td>41T-weQ9X5L._SX300_.jpg</td>\n",
       "      <td>{'also_bought': ['B000NOUEUO', 'B0013RD6OQ', '...</td>\n",
       "      <td>Lee</td>\n",
       "      <td>['Sports &amp; Outdoors', 'Hunting &amp; Fishing', 'Hu...</td>\n",
       "      <td>{'Sports &amp;amp; Outdoors': 6842}</td>\n",
       "      <td>Lee Powder Measure Dipper Kit includes 15 grad...</td>\n",
       "    </tr>\n",
       "    <tr>\n",
       "      <th>13372</th>\n",
       "      <td>5</td>\n",
       "      <td>B004Y27DVY</td>\n",
       "      <td>Glock Magazine Speed Loader for 9mm / .40 / .3...</td>\n",
       "      <td>7.88</td>\n",
       "      <td>41dpYrCCntL._SX300_.jpg</td>\n",
       "      <td>{'also_bought': ['B0014VX2M2', 'B000U3YWEM', '...</td>\n",
       "      <td>Glock</td>\n",
       "      <td>['Sports &amp; Outdoors', 'Hunting &amp; Fishing', 'Hu...</td>\n",
       "      <td>{'Sports &amp;amp; Outdoors': 5930}</td>\n",
       "      <td>Stop busting your fingers loading Glock Magazi...</td>\n",
       "    </tr>\n",
       "  </tbody>\n",
       "</table>\n",
       "</div>"
      ],
      "text/plain": [
       "       itemID        asin                                              title  \\\n",
       "0           1  1881509818           Ghost Inc Glock Armorers Tool 3/32 Punch   \n",
       "11982       2  B0048KGFHU                  Tipton Polymer Gun Cleaning Picks   \n",
       "15852       3  B0081JJVUC  TekMat 11-Inch X 17-Inch Handgun Cleaning Mat ...   \n",
       "3320        4  B000N8OIE8                   Lee Precision Powder Measure Kit   \n",
       "13372       5  B004Y27DVY  Glock Magazine Speed Loader for 9mm / .40 / .3...   \n",
       "\n",
       "       price                    imUrl  \\\n",
       "0       9.99  21iMxsyDBRL._SX300_.jpg   \n",
       "11982   6.34  31K7ShuOAWL._SY300_.jpg   \n",
       "15852  10.67  51gB5DgFUBL._SY300_.jpg   \n",
       "3320   11.46  41T-weQ9X5L._SX300_.jpg   \n",
       "13372   7.88  41dpYrCCntL._SX300_.jpg   \n",
       "\n",
       "                                                 related   brand  \\\n",
       "0      {'also_bought': ['B000U3YWEM', 'B000U401J6', '...   Ghost   \n",
       "11982  {'also_bought': ['B006T6Y56E', 'B00162OKDY', '...  Tipton   \n",
       "15852  {'also_bought': ['B0014VX2M2', 'B0036N474S', '...  TekMat   \n",
       "3320   {'also_bought': ['B000NOUEUO', 'B0013RD6OQ', '...     Lee   \n",
       "13372  {'also_bought': ['B0014VX2M2', 'B000U3YWEM', '...   Glock   \n",
       "\n",
       "                                              categories  \\\n",
       "0      ['Sports & Outdoors', 'Hunting & Fishing', 'Hu...   \n",
       "11982  ['Sports & Outdoors', 'Hunting & Fishing', 'Hu...   \n",
       "15852  ['Sports & Outdoors', 'Hunting & Fishing', 'Hu...   \n",
       "3320   ['Sports & Outdoors', 'Hunting & Fishing', 'Hu...   \n",
       "13372  ['Sports & Outdoors', 'Hunting & Fishing', 'Hu...   \n",
       "\n",
       "                               salesRank  \\\n",
       "0      {'Sports &amp; Outdoors': 172909}   \n",
       "11982     {'Sports &amp; Outdoors': 501}   \n",
       "15852    {'Sports &amp; Outdoors': 9061}   \n",
       "3320     {'Sports &amp; Outdoors': 6842}   \n",
       "13372    {'Sports &amp; Outdoors': 5930}   \n",
       "\n",
       "                                             description  \n",
       "0      Ghost Armorer Tool (1). The GAT is made with a...  \n",
       "11982  Here's a clever idea that belongs in every cle...  \n",
       "15852  Your gun is a proud possession as well as an i...  \n",
       "3320   Lee Powder Measure Dipper Kit includes 15 grad...  \n",
       "13372  Stop busting your fingers loading Glock Magazi...  "
      ]
     },
     "execution_count": 11,
     "metadata": {},
     "output_type": "execute_result"
    }
   ],
   "source": [
    "df[:5]"
   ]
  },
  {
   "cell_type": "code",
   "execution_count": 12,
   "metadata": {
    "collapsed": false,
    "pycharm": {
     "name": "#%%\n"
    }
   },
   "outputs": [],
   "source": [
    "import array\n",
    "\n",
    "def readImageFeatures(path):\n",
    "  f = open(path, 'rb')\n",
    "  while True:\n",
    "    asin = f.read(10).decode('UTF-8')\n",
    "    if asin == '': break\n",
    "    a = array.array('f')\n",
    "    a.fromfile(f, 4096)\n",
    "    yield asin, a.tolist()"
   ]
  },
  {
   "cell_type": "code",
   "execution_count": 13,
   "metadata": {
    "collapsed": false,
    "pycharm": {
     "name": "#%%\n"
    }
   },
   "outputs": [
    {
     "name": "stdout",
     "output_type": "stream",
     "text": [
      "# of items not in processed image features: 181\n",
      "done!\n"
     ]
    }
   ],
   "source": [
    "\n",
    "img_data = readImageFeatures(image_features)\n",
    "item2id = dict(zip(df['asin'], df['itemID']))\n",
    "\n",
    "feats = {}\n",
    "avg = []\n",
    "for d in img_data:\n",
    "    if d[0] in item2id:\n",
    "        feats[int(item2id[d[0]])] = d[1]\n",
    "        avg.append(d[1])\n",
    "avg = np.array(avg).mean(0).tolist()\n",
    "\n",
    "ret = []\n",
    "non_no = []\n",
    "for i in range(len(item2id)):\n",
    "    if i in feats:\n",
    "        ret.append(feats[i])\n",
    "    else:\n",
    "        non_no.append(i)\n",
    "        ret.append(avg)\n",
    "\n",
    "print('# of items not in processed image features:', len(non_no))\n",
    "assert len(ret) == len(item2id)\n",
    "np.save('image_feat.npy', np.array(ret))\n",
    "np.savetxt(\"missed_img_itemIDs.csv\", non_no, delimiter =\",\", fmt ='%d')\n",
    "print('done!')"
   ]
  }
 ],
 "metadata": {
  "kernelspec": {
   "display_name": "MMRec",
   "language": "python",
   "name": "python3"
  },
  "language_info": {
   "codemirror_mode": {
    "name": "ipython",
    "version": 3
   },
   "file_extension": ".py",
   "mimetype": "text/x-python",
   "name": "python",
   "nbconvert_exporter": "python",
   "pygments_lexer": "ipython3",
   "version": "3.7.12"
  }
 },
 "nbformat": 4,
 "nbformat_minor": 0
}
