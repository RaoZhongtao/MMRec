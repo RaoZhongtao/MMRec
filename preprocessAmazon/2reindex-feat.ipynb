{
 "cells": [
  {
   "cell_type": "markdown",
   "metadata": {
    "collapsed": false
   },
   "source": [
    "# 利用rating2inter.ipynb中U/I的index对features进行一一对应(meta-text)\n",
    "- Reindex item feature ID with IDs generated in 0rating2inter.ipynb"
   ]
  },
  {
   "cell_type": "code",
   "execution_count": 25,
   "metadata": {
    "collapsed": false,
    "pycharm": {
     "name": "#%%\n"
    }
   },
   "outputs": [],
   "source": [
    "import os\n",
    "import pandas as pd\n",
    "\n",
    "dataset = 'toys'\n",
    "rslt_dir = f'/home/yueqi/peilin/MMRec/data/AmazonReview/{dataset}/'\n",
    "item2sideFilePath = f'/home/yueqi/peilin/MMRec/AmazonRawData/Amazon_Review_Plus/{dataset}/item2side.json'\n",
    "os.chdir(rslt_dir)\n",
    "os.getcwd()\n",
    "i_id_mapping = 'i_id_mapping.csv'\n",
    "meta_data_path = rslt_dir + f'meta-{dataset}.csv'\n"
   ]
  },
  {
   "cell_type": "code",
   "execution_count": 26,
   "metadata": {
    "collapsed": false,
    "pycharm": {
     "name": "#%%\n"
    }
   },
   "outputs": [
    {
     "name": "stdout",
     "output_type": "stream",
     "text": [
      "shape: (11924, 2)\n"
     ]
    },
    {
     "data": {
      "text/html": [
       "<div>\n",
       "<style scoped>\n",
       "    .dataframe tbody tr th:only-of-type {\n",
       "        vertical-align: middle;\n",
       "    }\n",
       "\n",
       "    .dataframe tbody tr th {\n",
       "        vertical-align: top;\n",
       "    }\n",
       "\n",
       "    .dataframe thead th {\n",
       "        text-align: right;\n",
       "    }\n",
       "</style>\n",
       "<table border=\"1\" class=\"dataframe\">\n",
       "  <thead>\n",
       "    <tr style=\"text-align: right;\">\n",
       "      <th></th>\n",
       "      <th>asin</th>\n",
       "      <th>itemID</th>\n",
       "    </tr>\n",
       "  </thead>\n",
       "  <tbody>\n",
       "    <tr>\n",
       "      <th>0</th>\n",
       "      <td>B001RNFQNK</td>\n",
       "      <td>1</td>\n",
       "    </tr>\n",
       "    <tr>\n",
       "      <th>1</th>\n",
       "      <td>158978068X</td>\n",
       "      <td>2</td>\n",
       "    </tr>\n",
       "    <tr>\n",
       "      <th>2</th>\n",
       "      <td>B004S8F7QM</td>\n",
       "      <td>3</td>\n",
       "    </tr>\n",
       "    <tr>\n",
       "      <th>3</th>\n",
       "      <td>B008ULAMSG</td>\n",
       "      <td>4</td>\n",
       "    </tr>\n",
       "  </tbody>\n",
       "</table>\n",
       "</div>"
      ],
      "text/plain": [
       "         asin  itemID\n",
       "0  B001RNFQNK       1\n",
       "1  158978068X       2\n",
       "2  B004S8F7QM       3\n",
       "3  B008ULAMSG       4"
      ]
     },
     "execution_count": 26,
     "metadata": {},
     "output_type": "execute_result"
    }
   ],
   "source": [
    "# load item mapping\n",
    "\n",
    "df = pd.read_csv(i_id_mapping, sep='\\t')\n",
    "print(f'shape: {df.shape}')\n",
    "df[:4]"
   ]
  },
  {
   "cell_type": "code",
   "execution_count": 27,
   "metadata": {
    "collapsed": false,
    "pycharm": {
     "name": "#%%\n"
    }
   },
   "outputs": [
    {
     "name": "stdout",
     "output_type": "stream",
     "text": [
      "Total records: (11924, 10)\n"
     ]
    },
    {
     "data": {
      "text/html": [
       "<div>\n",
       "<style scoped>\n",
       "    .dataframe tbody tr th:only-of-type {\n",
       "        vertical-align: middle;\n",
       "    }\n",
       "\n",
       "    .dataframe tbody tr th {\n",
       "        vertical-align: top;\n",
       "    }\n",
       "\n",
       "    .dataframe thead th {\n",
       "        text-align: right;\n",
       "    }\n",
       "</style>\n",
       "<table border=\"1\" class=\"dataframe\">\n",
       "  <thead>\n",
       "    <tr style=\"text-align: right;\">\n",
       "      <th></th>\n",
       "      <th>itemID</th>\n",
       "      <th>asin</th>\n",
       "      <th>title</th>\n",
       "      <th>price</th>\n",
       "      <th>imUrl</th>\n",
       "      <th>related</th>\n",
       "      <th>brand</th>\n",
       "      <th>categories</th>\n",
       "      <th>salesRank</th>\n",
       "      <th>description</th>\n",
       "    </tr>\n",
       "  </thead>\n",
       "  <tbody>\n",
       "    <tr>\n",
       "      <th>0</th>\n",
       "      <td>3536</td>\n",
       "      <td>0439893577</td>\n",
       "      <td>Little Red Tool Box: Magnetic Tabletop Learnin...</td>\n",
       "      <td>16.19</td>\n",
       "      <td>51XCjcMthML._SY300_.jpg</td>\n",
       "      <td>{'also_bought': ['B0015KEB2M', 'B001ECI9EM', '...</td>\n",
       "      <td>Scholastic</td>\n",
       "      <td>[Toys &amp; Games, Dress Up &amp; Pretend Play, Preten...</td>\n",
       "      <td>None</td>\n",
       "      <td>The Magnetic Tabletop Learning Easel is one of...</td>\n",
       "    </tr>\n",
       "    <tr>\n",
       "      <th>1</th>\n",
       "      <td>9066</td>\n",
       "      <td>048645195X</td>\n",
       "      <td>Dover Publications-Decorative Tile Designs Col...</td>\n",
       "      <td>1.44</td>\n",
       "      <td>61r4Gp10KTL._SY300_.jpg</td>\n",
       "      <td>{'also_bought': ['0486456943', '0486456420', '...</td>\n",
       "      <td>Dover Pubns</td>\n",
       "      <td>[Toys &amp; Games, Arts &amp; Crafts, Drawing &amp; Painti...</td>\n",
       "      <td>{'Arts, Crafts &amp; Sewing': 1009}</td>\n",
       "      <td></td>\n",
       "    </tr>\n",
       "    <tr>\n",
       "      <th>2</th>\n",
       "      <td>5402</td>\n",
       "      <td>0545496470</td>\n",
       "      <td>The Book of Impossible Objects: 25 Eye-Popping...</td>\n",
       "      <td>11.13</td>\n",
       "      <td>61mEDfXSSYL._SY300_.jpg</td>\n",
       "      <td>{'also_bought': ['1570548943', '1452109036', '...</td>\n",
       "      <td>Klutz</td>\n",
       "      <td>[Toys &amp; Games, Novelty &amp; Gag Toys, Magic Kits ...</td>\n",
       "      <td>{'Arts, Crafts &amp; Sewing': 1462}</td>\n",
       "      <td></td>\n",
       "    </tr>\n",
       "  </tbody>\n",
       "</table>\n",
       "</div>"
      ],
      "text/plain": [
       "  itemID        asin                                              title  \\\n",
       "0   3536  0439893577  Little Red Tool Box: Magnetic Tabletop Learnin...   \n",
       "1   9066  048645195X  Dover Publications-Decorative Tile Designs Col...   \n",
       "2   5402  0545496470  The Book of Impossible Objects: 25 Eye-Popping...   \n",
       "\n",
       "   price                    imUrl  \\\n",
       "0  16.19  51XCjcMthML._SY300_.jpg   \n",
       "1   1.44  61r4Gp10KTL._SY300_.jpg   \n",
       "2  11.13  61mEDfXSSYL._SY300_.jpg   \n",
       "\n",
       "                                             related        brand  \\\n",
       "0  {'also_bought': ['B0015KEB2M', 'B001ECI9EM', '...   Scholastic   \n",
       "1  {'also_bought': ['0486456943', '0486456420', '...  Dover Pubns   \n",
       "2  {'also_bought': ['1570548943', '1452109036', '...        Klutz   \n",
       "\n",
       "                                          categories  \\\n",
       "0  [Toys & Games, Dress Up & Pretend Play, Preten...   \n",
       "1  [Toys & Games, Arts & Crafts, Drawing & Painti...   \n",
       "2  [Toys & Games, Novelty & Gag Toys, Magic Kits ...   \n",
       "\n",
       "                         salesRank  \\\n",
       "0                             None   \n",
       "1  {'Arts, Crafts & Sewing': 1009}   \n",
       "2  {'Arts, Crafts & Sewing': 1462}   \n",
       "\n",
       "                                         description  \n",
       "0  The Magnetic Tabletop Learning Easel is one of...  \n",
       "1                                                     \n",
       "2                                                     "
      ]
     },
     "execution_count": 27,
     "metadata": {},
     "output_type": "execute_result"
    }
   ],
   "source": [
    "\n",
    "import gzip, json\n",
    "\n",
    "def getMetaDF():\n",
    "  metaDict = {\n",
    "    'itemID': [],\n",
    "    'asin': [],\n",
    "    'title': [],\n",
    "    'price': [],\n",
    "    'imUrl': [],\n",
    "    'related': [],\n",
    "    'brand': [],\n",
    "    'categories': [],\n",
    "    'salesRank': [],\n",
    "    'description': []\n",
    "  }\n",
    "  with open(item2sideFilePath, 'r', encoding='utf-8') as item2sideFile:\n",
    "    item2side = json.load(item2sideFile)\n",
    "    for itemID, sideInfo in item2side.items():\n",
    "      metaDict['itemID'].append(itemID)\n",
    "      metaDict['asin'].append(sideInfo.get('asin', None))\n",
    "      metaDict['title'].append(sideInfo.get('title', None))\n",
    "      metaDict['price'].append(sideInfo.get('price', None))\n",
    "      metaDict['imUrl'].append(sideInfo.get('image', None).get('image_path', None) if sideInfo.get('image', None) is not None else None)\n",
    "      metaDict['related'].append(sideInfo.get('related', None))\n",
    "      metaDict['brand'].append(sideInfo.get('brand', None))\n",
    "      metaDict['categories'].append(sideInfo.get('categories', None))\n",
    "      metaDict['salesRank'].append(sideInfo.get('salesRank', None))\n",
    "      metaDict['description'].append(sideInfo.get('description', None))\n",
    "  \n",
    "  return pd.DataFrame(metaDict)\n",
    "\n",
    "meta_df = getMetaDF()\n",
    "\n",
    "print(f'Total records: {meta_df.shape}')\n",
    "meta_df[:3]"
   ]
  },
  {
   "cell_type": "code",
   "execution_count": 28,
   "metadata": {
    "collapsed": false,
    "pycharm": {
     "name": "#%%\n"
    }
   },
   "outputs": [
    {
     "name": "stdout",
     "output_type": "stream",
     "text": [
      "done!\n"
     ]
    }
   ],
   "source": [
    "# dump\n",
    "meta_df.to_csv(meta_data_path, index=False)\n",
    "print('done!')"
   ]
  },
  {
   "cell_type": "markdown",
   "metadata": {
    "collapsed": false
   },
   "source": []
  },
  {
   "cell_type": "markdown",
   "metadata": {
    "collapsed": false
   },
   "source": [
    "## Reload"
   ]
  },
  {
   "cell_type": "code",
   "execution_count": 29,
   "metadata": {
    "collapsed": false,
    "pycharm": {
     "name": "#%%\n"
    }
   },
   "outputs": [
    {
     "name": "stdout",
     "output_type": "stream",
     "text": [
      "shape: (11924, 10)\n"
     ]
    },
    {
     "data": {
      "text/html": [
       "<div>\n",
       "<style scoped>\n",
       "    .dataframe tbody tr th:only-of-type {\n",
       "        vertical-align: middle;\n",
       "    }\n",
       "\n",
       "    .dataframe tbody tr th {\n",
       "        vertical-align: top;\n",
       "    }\n",
       "\n",
       "    .dataframe thead th {\n",
       "        text-align: right;\n",
       "    }\n",
       "</style>\n",
       "<table border=\"1\" class=\"dataframe\">\n",
       "  <thead>\n",
       "    <tr style=\"text-align: right;\">\n",
       "      <th></th>\n",
       "      <th>itemID</th>\n",
       "      <th>asin</th>\n",
       "      <th>title</th>\n",
       "      <th>price</th>\n",
       "      <th>imUrl</th>\n",
       "      <th>related</th>\n",
       "      <th>brand</th>\n",
       "      <th>categories</th>\n",
       "      <th>salesRank</th>\n",
       "      <th>description</th>\n",
       "    </tr>\n",
       "  </thead>\n",
       "  <tbody>\n",
       "    <tr>\n",
       "      <th>0</th>\n",
       "      <td>3536</td>\n",
       "      <td>0439893577</td>\n",
       "      <td>Little Red Tool Box: Magnetic Tabletop Learnin...</td>\n",
       "      <td>16.19</td>\n",
       "      <td>51XCjcMthML._SY300_.jpg</td>\n",
       "      <td>{'also_bought': ['B0015KEB2M', 'B001ECI9EM', '...</td>\n",
       "      <td>Scholastic</td>\n",
       "      <td>['Toys &amp; Games', 'Dress Up &amp; Pretend Play', 'P...</td>\n",
       "      <td>NaN</td>\n",
       "      <td>The Magnetic Tabletop Learning Easel is one of...</td>\n",
       "    </tr>\n",
       "    <tr>\n",
       "      <th>1</th>\n",
       "      <td>9066</td>\n",
       "      <td>048645195X</td>\n",
       "      <td>Dover Publications-Decorative Tile Designs Col...</td>\n",
       "      <td>1.44</td>\n",
       "      <td>61r4Gp10KTL._SY300_.jpg</td>\n",
       "      <td>{'also_bought': ['0486456943', '0486456420', '...</td>\n",
       "      <td>Dover Pubns</td>\n",
       "      <td>['Toys &amp; Games', 'Arts &amp; Crafts', 'Drawing &amp; P...</td>\n",
       "      <td>{'Arts, Crafts &amp; Sewing': 1009}</td>\n",
       "      <td>NaN</td>\n",
       "    </tr>\n",
       "    <tr>\n",
       "      <th>2</th>\n",
       "      <td>5402</td>\n",
       "      <td>0545496470</td>\n",
       "      <td>The Book of Impossible Objects: 25 Eye-Popping...</td>\n",
       "      <td>11.13</td>\n",
       "      <td>61mEDfXSSYL._SY300_.jpg</td>\n",
       "      <td>{'also_bought': ['1570548943', '1452109036', '...</td>\n",
       "      <td>Klutz</td>\n",
       "      <td>['Toys &amp; Games', 'Novelty &amp; Gag Toys', 'Magic ...</td>\n",
       "      <td>{'Arts, Crafts &amp; Sewing': 1462}</td>\n",
       "      <td>NaN</td>\n",
       "    </tr>\n",
       "    <tr>\n",
       "      <th>3</th>\n",
       "      <td>8316</td>\n",
       "      <td>0615444172</td>\n",
       "      <td>Original Sticker Book Starter Kit with 3 Puffy...</td>\n",
       "      <td>16.99</td>\n",
       "      <td>51ayc5M9LlL._SY300_.jpg</td>\n",
       "      <td>{'also_bought': ['B00GOXK692', '0985090901', '...</td>\n",
       "      <td>NaN</td>\n",
       "      <td>['Toys &amp; Games', 'Toy Remote Control &amp; Play Ve...</td>\n",
       "      <td>{'Toys &amp; Games': 27977}</td>\n",
       "      <td>Our Original Sticker Books follow friends and ...</td>\n",
       "    </tr>\n",
       "  </tbody>\n",
       "</table>\n",
       "</div>"
      ],
      "text/plain": [
       "   itemID        asin                                              title  \\\n",
       "0    3536  0439893577  Little Red Tool Box: Magnetic Tabletop Learnin...   \n",
       "1    9066  048645195X  Dover Publications-Decorative Tile Designs Col...   \n",
       "2    5402  0545496470  The Book of Impossible Objects: 25 Eye-Popping...   \n",
       "3    8316  0615444172  Original Sticker Book Starter Kit with 3 Puffy...   \n",
       "\n",
       "   price                    imUrl  \\\n",
       "0  16.19  51XCjcMthML._SY300_.jpg   \n",
       "1   1.44  61r4Gp10KTL._SY300_.jpg   \n",
       "2  11.13  61mEDfXSSYL._SY300_.jpg   \n",
       "3  16.99  51ayc5M9LlL._SY300_.jpg   \n",
       "\n",
       "                                             related        brand  \\\n",
       "0  {'also_bought': ['B0015KEB2M', 'B001ECI9EM', '...   Scholastic   \n",
       "1  {'also_bought': ['0486456943', '0486456420', '...  Dover Pubns   \n",
       "2  {'also_bought': ['1570548943', '1452109036', '...        Klutz   \n",
       "3  {'also_bought': ['B00GOXK692', '0985090901', '...          NaN   \n",
       "\n",
       "                                          categories  \\\n",
       "0  ['Toys & Games', 'Dress Up & Pretend Play', 'P...   \n",
       "1  ['Toys & Games', 'Arts & Crafts', 'Drawing & P...   \n",
       "2  ['Toys & Games', 'Novelty & Gag Toys', 'Magic ...   \n",
       "3  ['Toys & Games', 'Toy Remote Control & Play Ve...   \n",
       "\n",
       "                         salesRank  \\\n",
       "0                              NaN   \n",
       "1  {'Arts, Crafts & Sewing': 1009}   \n",
       "2  {'Arts, Crafts & Sewing': 1462}   \n",
       "3          {'Toys & Games': 27977}   \n",
       "\n",
       "                                         description  \n",
       "0  The Magnetic Tabletop Learning Easel is one of...  \n",
       "1                                                NaN  \n",
       "2                                                NaN  \n",
       "3  Our Original Sticker Books follow friends and ...  "
      ]
     },
     "execution_count": 29,
     "metadata": {},
     "output_type": "execute_result"
    }
   ],
   "source": [
    "indexed_df = pd.read_csv(meta_data_path)\n",
    "print(f'shape: {indexed_df.shape}')\n",
    "indexed_df[:4]"
   ]
  },
  {
   "cell_type": "code",
   "execution_count": 30,
   "metadata": {
    "collapsed": false,
    "pycharm": {
     "name": "#%%\n"
    }
   },
   "outputs": [
    {
     "name": "stdout",
     "output_type": "stream",
     "text": [
      "# of unique items: 11924\n",
      "min/max of unique learners: 1/11924\n"
     ]
    }
   ],
   "source": [
    "## Reload\n",
    "\n",
    "i_uni = indexed_df['itemID'].unique()\n",
    "\n",
    "print(f'# of unique items: {len(i_uni)}')\n",
    "\n",
    "print('min/max of unique learners: {0}/{1}'.format(min(i_uni), max(i_uni)))"
   ]
  }
 ],
 "metadata": {
  "kernelspec": {
   "display_name": "MMRec",
   "language": "python",
   "name": "python3"
  },
  "language_info": {
   "codemirror_mode": {
    "name": "ipython",
    "version": 3
   },
   "file_extension": ".py",
   "mimetype": "text/x-python",
   "name": "python",
   "nbconvert_exporter": "python",
   "pygments_lexer": "ipython3",
   "version": "3.7.12"
  }
 },
 "nbformat": 4,
 "nbformat_minor": 0
}
